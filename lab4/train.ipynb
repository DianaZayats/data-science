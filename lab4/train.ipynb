{
 "cells": [
  {
   "cell_type": "markdown",
   "metadata": {},
   "source": [
    "Імпорт бібліотек та підготовка середовища"
   ]
  },
  {
   "cell_type": "code",
   "execution_count": 13,
   "metadata": {},
   "outputs": [],
   "source": [
    "# Імпорт бібліотек\n",
    "import pandas as pd\n",
    "import numpy as np\n",
    "import seaborn as sns\n",
    "import matplotlib.pyplot as plt\n",
    "from sklearn.model_selection import train_test_split\n",
    "from sklearn.linear_model import LogisticRegression\n",
    "from sklearn.tree import DecisionTreeClassifier\n",
    "from sklearn.ensemble import RandomForestClassifier\n",
    "from sklearn.metrics import classification_report, roc_curve, auc, confusion_matrix"
   ]
  },
  {
   "cell_type": "code",
   "execution_count": 14,
   "metadata": {},
   "outputs": [
    {
     "name": "stdout",
     "output_type": "stream",
     "text": [
      "   survived  pclass     sex   age  sibsp  parch     fare embarked   class  \\\n",
      "0         0       3    male  22.0      1      0   7.2500        S   Third   \n",
      "1         1       1  female  38.0      1      0  71.2833        C   First   \n",
      "2         1       3  female  26.0      0      0   7.9250        S   Third   \n",
      "3         1       1  female  35.0      1      0  53.1000        S   First   \n",
      "4         0       3    male  35.0      0      0   8.0500        S   Third   \n",
      "5         0       3    male   NaN      0      0   8.4583        Q   Third   \n",
      "6         0       1    male  54.0      0      0  51.8625        S   First   \n",
      "7         0       3    male   2.0      3      1  21.0750        S   Third   \n",
      "8         1       3  female  27.0      0      2  11.1333        S   Third   \n",
      "9         1       2  female  14.0      1      0  30.0708        C  Second   \n",
      "\n",
      "     who  adult_male deck  embark_town alive  alone  \n",
      "0    man        True  NaN  Southampton    no  False  \n",
      "1  woman       False    C    Cherbourg   yes  False  \n",
      "2  woman       False  NaN  Southampton   yes   True  \n",
      "3  woman       False    C  Southampton   yes  False  \n",
      "4    man        True  NaN  Southampton    no   True  \n",
      "5    man        True  NaN   Queenstown    no   True  \n",
      "6    man        True    E  Southampton    no   True  \n",
      "7  child       False  NaN  Southampton    no  False  \n",
      "8  woman       False  NaN  Southampton   yes  False  \n",
      "9  child       False  NaN    Cherbourg   yes  False  \n",
      "         survived      pclass         age       sibsp       parch        fare\n",
      "count  891.000000  891.000000  714.000000  891.000000  891.000000  891.000000\n",
      "mean     0.383838    2.308642   29.699118    0.523008    0.381594   32.204208\n",
      "std      0.486592    0.836071   14.526497    1.102743    0.806057   49.693429\n",
      "min      0.000000    1.000000    0.420000    0.000000    0.000000    0.000000\n",
      "25%      0.000000    2.000000   20.125000    0.000000    0.000000    7.910400\n",
      "50%      0.000000    3.000000   28.000000    0.000000    0.000000   14.454200\n",
      "75%      1.000000    3.000000   38.000000    1.000000    0.000000   31.000000\n",
      "max      1.000000    3.000000   80.000000    8.000000    6.000000  512.329200\n",
      "<class 'pandas.core.frame.DataFrame'>\n",
      "RangeIndex: 891 entries, 0 to 890\n",
      "Data columns (total 15 columns):\n",
      " #   Column       Non-Null Count  Dtype   \n",
      "---  ------       --------------  -----   \n",
      " 0   survived     891 non-null    int64   \n",
      " 1   pclass       891 non-null    int64   \n",
      " 2   sex          891 non-null    object  \n",
      " 3   age          714 non-null    float64 \n",
      " 4   sibsp        891 non-null    int64   \n",
      " 5   parch        891 non-null    int64   \n",
      " 6   fare         891 non-null    float64 \n",
      " 7   embarked     889 non-null    object  \n",
      " 8   class        891 non-null    category\n",
      " 9   who          891 non-null    object  \n",
      " 10  adult_male   891 non-null    bool    \n",
      " 11  deck         203 non-null    category\n",
      " 12  embark_town  889 non-null    object  \n",
      " 13  alive        891 non-null    object  \n",
      " 14  alone        891 non-null    bool    \n",
      "dtypes: bool(2), category(2), float64(2), int64(4), object(5)\n",
      "memory usage: 80.7+ KB\n",
      "None\n"
     ]
    }
   ],
   "source": [
    "# Завантаження даних\n",
    "titanic = sns.load_dataset('titanic')\n",
    "\n",
    "# Ознайомлення з даними\n",
    "print(titanic.head(10))\n",
    "print(titanic.describe())\n",
    "print(titanic.info())"
   ]
  },
  {
   "cell_type": "markdown",
   "metadata": {},
   "source": [
    "Попередня обробка даних"
   ]
  },
  {
   "cell_type": "code",
   "execution_count": 15,
   "metadata": {},
   "outputs": [
    {
     "name": "stdout",
     "output_type": "stream",
     "text": [
      "survived                     int64\n",
      "pclass                       int64\n",
      "age                        float64\n",
      "fare                       float64\n",
      "adult_male                    bool\n",
      "sex_male                      bool\n",
      "embarked_Q                    bool\n",
      "embarked_S                    bool\n",
      "class_Second                  bool\n",
      "class_Third                   bool\n",
      "who_man                       bool\n",
      "who_woman                     bool\n",
      "deck_B                        bool\n",
      "deck_C                        bool\n",
      "deck_D                        bool\n",
      "deck_E                        bool\n",
      "deck_F                        bool\n",
      "deck_G                        bool\n",
      "embark_town_Queenstown        bool\n",
      "embark_town_Southampton       bool\n",
      "alive_yes                     bool\n",
      "alone_True                    bool\n",
      "family_size                  int64\n",
      "dtype: object\n",
      "survived                   0\n",
      "pclass                     0\n",
      "age                        0\n",
      "fare                       0\n",
      "adult_male                 0\n",
      "sex_male                   0\n",
      "embarked_Q                 0\n",
      "embarked_S                 0\n",
      "class_Second               0\n",
      "class_Third                0\n",
      "who_man                    0\n",
      "who_woman                  0\n",
      "deck_B                     0\n",
      "deck_C                     0\n",
      "deck_D                     0\n",
      "deck_E                     0\n",
      "deck_F                     0\n",
      "deck_G                     0\n",
      "embark_town_Queenstown     0\n",
      "embark_town_Southampton    0\n",
      "alive_yes                  0\n",
      "alone_True                 0\n",
      "family_size                0\n",
      "dtype: int64\n"
     ]
    }
   ],
   "source": [
    "# Заповнення пропущених значень\n",
    "titanic['age'] = titanic['age'].fillna(titanic['age'].mean())\n",
    "titanic['embarked'] = titanic['embarked'].fillna(titanic['embarked'].mode()[0])\n",
    "\n",
    "# One-Hot Encoding для категоріальних змінних\n",
    "titanic = pd.get_dummies(\n",
    "    titanic,\n",
    "    columns=['sex', 'embarked', 'class', 'who', 'deck', 'embark_town', 'alive', 'alone'],\n",
    "    drop_first=True\n",
    ")\n",
    "\n",
    "# Створення нової ознаки FamilySize\n",
    "titanic['family_size'] = titanic['sibsp'] + titanic['parch']\n",
    "\n",
    "# Видалення непотрібних стовпців\n",
    "titanic.drop(columns=['sibsp', 'parch'], inplace=True)\n",
    "\n",
    "# Перевірка типів даних та пропущених значень\n",
    "print(titanic.dtypes)\n",
    "print(titanic.isnull().sum())"
   ]
  },
  {
   "cell_type": "markdown",
   "metadata": {},
   "source": [
    "Поділ даних на тренувальну та тестову вибірки"
   ]
  },
  {
   "cell_type": "code",
   "execution_count": 16,
   "metadata": {},
   "outputs": [],
   "source": [
    "# Поділ на ознаки та цільову змінну\n",
    "X = titanic.drop(columns=['survived'])  # Видаляємо цільову змінну\n",
    "y = titanic['survived']\n",
    "\n",
    "# Поділ на тренувальну та тестову вибірки\n",
    "X_train, X_test, y_train, y_test = train_test_split(X, y, test_size=0.2, random_state=42)"
   ]
  },
  {
   "cell_type": "markdown",
   "metadata": {},
   "source": [
    "Тренування моделі: Логістична регресія"
   ]
  },
  {
   "cell_type": "code",
   "execution_count": 17,
   "metadata": {},
   "outputs": [
    {
     "name": "stdout",
     "output_type": "stream",
     "text": [
      "Логістична регресія:\n",
      "              precision    recall  f1-score   support\n",
      "\n",
      "           0       1.00      1.00      1.00       105\n",
      "           1       1.00      1.00      1.00        74\n",
      "\n",
      "    accuracy                           1.00       179\n",
      "   macro avg       1.00      1.00      1.00       179\n",
      "weighted avg       1.00      1.00      1.00       179\n",
      "\n"
     ]
    }
   ],
   "source": [
    "# Логістична регресія\n",
    "log_reg = LogisticRegression(max_iter=1000)\n",
    "log_reg.fit(X_train, y_train)\n",
    "y_pred_log = log_reg.predict(X_test)\n",
    "\n",
    "# Оцінка моделі\n",
    "print(\"Логістична регресія:\")\n",
    "print(classification_report(y_test, y_pred_log))"
   ]
  },
  {
   "cell_type": "markdown",
   "metadata": {},
   "source": [
    "Тренування моделі: Дерева рішень"
   ]
  },
  {
   "cell_type": "code",
   "execution_count": 18,
   "metadata": {},
   "outputs": [
    {
     "name": "stdout",
     "output_type": "stream",
     "text": [
      "Дерева рішень:\n",
      "              precision    recall  f1-score   support\n",
      "\n",
      "           0       1.00      1.00      1.00       105\n",
      "           1       1.00      1.00      1.00        74\n",
      "\n",
      "    accuracy                           1.00       179\n",
      "   macro avg       1.00      1.00      1.00       179\n",
      "weighted avg       1.00      1.00      1.00       179\n",
      "\n"
     ]
    }
   ],
   "source": [
    "# Дерева рішень\n",
    "tree_clf = DecisionTreeClassifier(random_state=42)\n",
    "tree_clf.fit(X_train, y_train)\n",
    "y_pred_tree = tree_clf.predict(X_test)\n",
    "\n",
    "# Оцінка моделі\n",
    "print(\"Дерева рішень:\")\n",
    "print(classification_report(y_test, y_pred_tree))"
   ]
  },
  {
   "cell_type": "markdown",
   "metadata": {},
   "source": [
    "Тренування моделі: Випадкові ліси"
   ]
  },
  {
   "cell_type": "code",
   "execution_count": 19,
   "metadata": {},
   "outputs": [
    {
     "name": "stdout",
     "output_type": "stream",
     "text": [
      "Випадкові ліси:\n",
      "              precision    recall  f1-score   support\n",
      "\n",
      "           0       1.00      1.00      1.00       105\n",
      "           1       1.00      1.00      1.00        74\n",
      "\n",
      "    accuracy                           1.00       179\n",
      "   macro avg       1.00      1.00      1.00       179\n",
      "weighted avg       1.00      1.00      1.00       179\n",
      "\n"
     ]
    }
   ],
   "source": [
    "# Випадкові ліси\n",
    "rf_clf = RandomForestClassifier(random_state=42)\n",
    "rf_clf.fit(X_train, y_train)\n",
    "y_pred_rf = rf_clf.predict(X_test)\n",
    "\n",
    "# Оцінка моделі\n",
    "print(\"Випадкові ліси:\")\n",
    "print(classification_report(y_test, y_pred_rf))"
   ]
  },
  {
   "cell_type": "markdown",
   "metadata": {},
   "source": [
    "Побудова ROC-кривих"
   ]
  },
  {
   "cell_type": "code",
   "execution_count": 20,
   "metadata": {},
   "outputs": [
    {
     "data": {
      "image/png": "[encoded data removed]",
      "text/plain": [
       "<Figure size 1000x600 with 1 Axes>"
      ]
     },
     "metadata": {},
     "output_type": "display_data"
    }
   ],
   "source": [
    "plt.figure(figsize=(10, 6))\n",
    "for model, y_pred, label in [\n",
    "    (log_reg, log_reg.predict_proba(X_test)[:, 1], 'Logistic Regression'),\n",
    "    (tree_clf, tree_clf.predict_proba(X_test)[:, 1], 'Decision Tree'),\n",
    "    (rf_clf, rf_clf.predict_proba(X_test)[:, 1], 'Random Forest')\n",
    "]:\n",
    "    fpr, tpr, _ = roc_curve(y_test, y_pred)\n",
    "    roc_auc = auc(fpr, tpr)\n",
    "    plt.plot(fpr, tpr, label=f'{label} (AUC = {roc_auc:.2f})')\n",
    "\n",
    "plt.plot([0, 1], [0, 1], 'k--')\n",
    "plt.xlabel('False Positive Rate')\n",
    "plt.ylabel('True Positive Rate')\n",
    "plt.title('ROC-криві моделей')\n",
    "plt.legend()\n",
    "plt.show()"
   ]
  },
  {
   "cell_type": "markdown",
   "metadata": {},
   "source": [
    "Крос-валідація для логістичної регресії"
   ]
  },
  {
   "cell_type": "code",
   "execution_count": 21,
   "metadata": {},
   "outputs": [
    {
     "name": "stdout",
     "output_type": "stream",
     "text": [
      "Крос-валідація для логістичної регресії: 1.00\n"
     ]
    }
   ],
   "source": [
    "from sklearn.model_selection import cross_val_score\n",
    "\n",
    "# Крос-валідація\n",
    "scores = cross_val_score(log_reg, X, y, cv=5)\n",
    "print(f'Крос-валідація для логістичної регресії: {scores.mean():.2f}')"
   ]
  },
  {
   "cell_type": "markdown",
   "metadata": {},
   "source": [
    "Оптимізація моделі: Випадкові ліси"
   ]
  },
  {
   "cell_type": "code",
   "execution_count": 22,
   "metadata": {},
   "outputs": [
    {
     "name": "stdout",
     "output_type": "stream",
     "text": [
      "Найкращі параметри для Random Forest: {'max_depth': None, 'min_samples_split': 2, 'n_estimators': 50}\n"
     ]
    }
   ],
   "source": [
    "from sklearn.model_selection import GridSearchCV\n",
    "\n",
    "# Підбір гіперпараметрів для випадкових лісів\n",
    "param_grid = {\n",
    "    'n_estimators': [50, 100, 200],\n",
    "    'max_depth': [None, 10, 20],\n",
    "    'min_samples_split': [2, 5, 10]\n",
    "}\n",
    "grid_search = GridSearchCV(rf_clf, param_grid, cv=3, scoring='accuracy')\n",
    "grid_search.fit(X_train, y_train)\n",
    "print(f'Найкращі параметри для Random Forest: {grid_search.best_params_}')"
   ]
  },
  {
   "cell_type": "markdown",
   "metadata": {},
   "source": [
    "Аналіз важливості ознак"
   ]
  },
  {
   "cell_type": "code",
   "execution_count": 23,
   "metadata": {},
   "outputs": [
    {
     "name": "stdout",
     "output_type": "stream",
     "text": [
      "Важливість ознак для Random Forest:\n",
      "alive_yes: 0.5905\n",
      "adult_male: 0.0582\n",
      "who_man: 0.0560\n",
      "sex_male: 0.0558\n",
      "fare: 0.0510\n",
      "who_woman: 0.0452\n",
      "age: 0.0346\n",
      "pclass: 0.0296\n",
      "class_Third: 0.0237\n",
      "family_size: 0.0206\n",
      "class_Second: 0.0051\n",
      "deck_E: 0.0047\n",
      "alone_True: 0.0044\n",
      "embark_town_Southampton: 0.0041\n",
      "deck_B: 0.0040\n",
      "embarked_S: 0.0031\n",
      "deck_D: 0.0027\n",
      "deck_C: 0.0021\n",
      "embarked_Q: 0.0018\n",
      "embark_town_Queenstown: 0.0011\n",
      "deck_F: 0.0010\n",
      "deck_G: 0.0006\n"
     ]
    }
   ],
   "source": [
    "# Аналіз важливості ознак\n",
    "importances = rf_clf.feature_importances_\n",
    "feature_names = X.columns\n",
    "sorted_indices = np.argsort(importances)[::-1]\n",
    "\n",
    "print(\"Важливість ознак для Random Forest:\")\n",
    "for idx in sorted_indices:\n",
    "    print(f'{feature_names[idx]}: {importances[idx]:.4f}')"
   ]
  }
 ],
 "metadata": {
  "kernelspec": {
   "display_name": "Python 3",
   "language": "python",
   "name": "python3"
  },
  "language_info": {
   "codemirror_mode": {
    "name": "ipython",
    "version": 3
   },
   "file_extension": ".py",
   "mimetype": "text/x-python",
   "name": "python",
   "nbconvert_exporter": "python",
   "pygments_lexer": "ipython3",
   "version": "3.11.9"
  }
 },
 "nbformat": 4,
 "nbformat_minor": 2
}
