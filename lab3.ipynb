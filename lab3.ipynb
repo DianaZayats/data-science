{
 "cells": [
  {
   "cell_type": "markdown",
   "metadata": {},
   "source": [
    "Створюємо набір даних за допомогою DatasetGenerator"
   ]
  },
  {
   "cell_type": "code",
   "execution_count": 1,
   "metadata": {},
   "outputs": [
    {
     "name": "stdout",
     "output_type": "stream",
     "text": [
      "   feature_0  feature_1  feature_2  feature_3  feature_4  target\n",
      "0   0.065613  -1.814317  -0.848534   0.278723  -1.898162       0\n",
      "1   1.943645  -0.781251  -0.780406  -1.020383  -0.176647       1\n",
      "2   2.215437  -1.591460  -1.754176  -0.157724   0.875586       1\n",
      "3   2.248896   1.438831   1.071276   0.166088  -0.733065       1\n",
      "4   1.398888   1.603281   1.307294  -2.452265  -0.763596       0\n"
     ]
    }
   ],
   "source": [
    "import numpy as np\n",
    "import pandas as pd\n",
    "from sklearn.datasets import make_classification\n",
    "\n",
    "# Створення набору даних за допомогою make_classification\n",
    "X, y = make_classification(n_samples=100,   # Кількість зразків\n",
    "                           n_features=5,    # Кількість ознак\n",
    "                           n_informative=3, # Кількість інформативних ознак\n",
    "                           n_redundant=1,   # Кількість надлишкових ознак\n",
    "                           n_classes=2,     # Кількість класів\n",
    "                           random_state=42) # Випадковий seed для відтворюваності\n",
    "\n",
    "# Перетворення в DataFrame для зручності\n",
    "df = pd.DataFrame(X, columns=[f'feature_{i}' for i in range(X.shape[1])])\n",
    "df['target'] = y\n",
    "\n",
    "# Виведення перших 5 рядків згенерованого набору даних\n",
    "print(df.head())"
   ]
  },
  {
   "cell_type": "markdown",
   "metadata": {},
   "source": [
    "Завантажуємо набір даних для класифікації з сайту Kaggle. В моєму випадку було обрано Happiness Classification Dataset"
   ]
  },
  {
   "cell_type": "code",
   "execution_count": 3,
   "metadata": {},
   "outputs": [
    {
     "name": "stdout",
     "output_type": "stream",
     "text": [
      "    infoavail  housecost  schoolquality  policetrust  streetquality  ëvents  happy\n",
      "0           3          3              3            4              2       4      0\n",
      "1           3          2              3            5              4       3      0\n",
      "2           5          3              3            3              3       5      1\n",
      "3           5          4              3            3              3       5      0\n",
      "4           5          4              3            3              3       5      0\n",
      "5           5          5              3            5              5       5      1\n",
      "6           3          1              2            2              1       3      0\n",
      "7           5          4              4            4              4       5      1\n",
      "8           4          1              4            4              4       4      0\n",
      "9           4          4              4            2              5       5      0\n",
      "10          3          2              3            3              2       3      0\n",
      "11          4          4              3            4              4       4      0\n",
      "12          5          2              4            5              5       5      1\n",
      "13          4          2              4            5              4       3      0\n",
      "14          4          1              3            3              4       3      0\n"
     ]
    }
   ],
   "source": [
    "import pandas as pd\n",
    "\n",
    "# Вкажи шлях до твого файлу з Kaggle (заміни на свій реальний шлях)\n",
    "file_path = \"C:/Users/Lenovo/Desktop/study/data science/lab3/happydata.csv\"\n",
    "\n",
    "# Завантаження датасету\n",
    "HappinessData = pd.read_csv(file_path)\n",
    "\n",
    "# Налаштовуємо максимальну кількість рядків для виводу\n",
    "pd.set_option('display.max_rows', 100)\n",
    "\n",
    "# Налаштовуємо максимальну кількість стовпців для виводу (всі стовпці)\n",
    "pd.set_option('display.max_columns', None)\n",
    "\n",
    "# Налаштовуємо ширину стовпців, щоб уникнути скорочення тексту\n",
    "pd.set_option('display.max_colwidth', None)\n",
    "\n",
    "# Налаштовуємо ширину для відображення всього вмісту\n",
    "pd.set_option('display.width', 1000)\n",
    "\n",
    "# Виведення перших 15 рядків датасету\n",
    "print(HappinessData.head(15))\n"
   ]
  },
  {
   "cell_type": "markdown",
   "metadata": {},
   "source": [
    "Згенерувати набір даних для класифікації, використовуючи стандартні можливості Python"
   ]
  },
  {
   "cell_type": "code",
   "execution_count": 4,
   "metadata": {},
   "outputs": [
    {
     "name": "stdout",
     "output_type": "stream",
     "text": [
      "   feature_1  feature_2  feature_3  feature_4  feature_5  target\n",
      "0  65.402193   2.384980  90.298777  95.621005  63.519164       1\n",
      "1  44.697350  13.271325   5.599293  98.196192  78.992041       0\n",
      "2  62.179776  65.530752  92.915137  45.524627   3.666547       1\n",
      "3  24.300166  88.841798  30.617529  94.393967  56.845572       0\n",
      "4  26.186565  35.826908  34.889292  72.601393  66.696204       0\n"
     ]
    }
   ],
   "source": [
    "import numpy as np\n",
    "import pandas as pd\n",
    "import random\n",
    "\n",
    "# Визначаємо кількість зразків і ознак\n",
    "n_samples = 100\n",
    "n_features = 5\n",
    "\n",
    "# Генерація випадкових даних для ознак\n",
    "X = np.random.rand(n_samples, n_features) * 100  # Генеруємо значення в діапазоні 0-100 для кожної ознаки\n",
    "\n",
    "# Створюємо залежну змінну (target) на основі певних умов\n",
    "# Наприклад, якщо сума перших трьох ознак більше 150, клас 1, інакше 0\n",
    "y = np.array([1 if sum(row[:3]) > 150 else 0 for row in X])\n",
    "\n",
    "# Створюємо DataFrame для зручності роботи з даними\n",
    "columns = [f'feature_{i+1}' for i in range(n_features)]\n",
    "df = pd.DataFrame(X, columns=columns)\n",
    "df['target'] = y\n",
    "\n",
    "# Виведемо перші 5 рядків згенерованого набору даних\n",
    "print(df.head())"
   ]
  },
  {
   "cell_type": "markdown",
   "metadata": {},
   "source": [
    "Провести моделювання для отриманих наборів даних з використанням регресійного аналізу."
   ]
  },
  {
   "cell_type": "code",
   "execution_count": 8,
   "metadata": {},
   "outputs": [
    {
     "name": "stdout",
     "output_type": "stream",
     "text": [
      "Середньоквадратична похибка (MSE): 0.0401\n",
      "Середня абсолютна похибка (MAE): 0.1741\n",
      "Коефіцієнт детермінації (R^2): 0.9900\n"
     ]
    },
    {
     "data": {
      "image/png": "[encoded data removed]",
      "text/plain": [
       "<Figure size 640x480 with 1 Axes>"
      ]
     },
     "metadata": {},
     "output_type": "display_data"
    }
   ],
   "source": [
    "import numpy as np\n",
    "import pandas as pd\n",
    "import matplotlib.pyplot as plt\n",
    "from sklearn.linear_model import LinearRegression\n",
    "from sklearn.metrics import mean_squared_error, mean_absolute_error, r2_score\n",
    "\n",
    "# Дані\n",
    "data = {\n",
    "    'X': [1, 2, 3, 4, 5, 6, 7, 8],\n",
    "    'y': [1.5, 2.7, 3.1, 3.9, 5.0, 6.1, 6.5, 7.8]\n",
    "}\n",
    "\n",
    "# Створення DataFrame\n",
    "df = pd.DataFrame(data)\n",
    "\n",
    "# Незалежна змінна (додаємо reshape для забезпечення 2D форми)\n",
    "X = df[['X']]\n",
    "\n",
    "# Залежна змінна\n",
    "y = df['y']\n",
    "\n",
    "# Створення і навчання моделі\n",
    "model = LinearRegression()\n",
    "model.fit(X, y)\n",
    "\n",
    "# Прогнозування\n",
    "y_pred = model.predict(X)\n",
    "\n",
    "# Оцінка якості моделі\n",
    "mse = mean_squared_error(y, y_pred)\n",
    "mae = mean_absolute_error(y, y_pred)\n",
    "r2 = r2_score(y, y_pred)\n",
    "\n",
    "# Виведення результатів оцінки\n",
    "print(f'Середньоквадратична похибка (MSE): {mse:.4f}')\n",
    "print(f'Середня абсолютна похибка (MAE): {mae:.4f}')\n",
    "print(f'Коефіцієнт детермінації (R^2): {r2:.4f}')\n",
    "\n",
    "# Візуалізація результатів\n",
    "plt.scatter(X, y, color='green', label='Фактичні дані', marker='o')\n",
    "plt.plot(X, y_pred, color='orange', label='Лінія регресії', linestyle='--')\n",
    "plt.xlabel('Значення X')\n",
    "plt.ylabel('Значення y')\n",
    "plt.title('Лінійна регресія - Графік')\n",
    "plt.legend()\n",
    "plt.grid(True)\n",
    "plt.show()"
   ]
  }
 ],
 "metadata": {
  "kernelspec": {
   "display_name": "Python 3",
   "language": "python",
   "name": "python3"
  },
  "language_info": {
   "codemirror_mode": {
    "name": "ipython",
    "version": 3
   },
   "file_extension": ".py",
   "mimetype": "text/x-python",
   "name": "python",
   "nbconvert_exporter": "python",
   "pygments_lexer": "ipython3",
   "version": "3.11.9"
  }
 },
 "nbformat": 4,
 "nbformat_minor": 2
}
