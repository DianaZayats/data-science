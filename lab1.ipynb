{
 "cells": [
  {
   "cell_type": "markdown",
   "metadata": {},
   "source": [
    "Jupyter Notebook — це веб-додаток з відкритим вихідним кодом, який дозволяє створювати та ділитися документами, що містять живий код, рівняння, візуалізації та текстові пояснення. Основне призначення:\n",
    "\n",
    "1. Інтерактивне програмування: Можливість писати та виконувати код в реальному часі, що зручно для експериментів і прототипування.\n",
    "2. Аналіз даних та візуалізація: Підтримує такі бібліотеки, як NumPy, Pandas, Matplotlib, що робить його ідеальним для аналізу даних та їх візуалізації.\n",
    "3. Документація та звітування: Можливість поєднувати код, результати, графіки та текстові пояснення в одному документі, що зручно для створення навчальних матеріалів, звітів або документування процесів.\n",
    "4. Співпраця: Нотатки можна легко ділити з іншими, що полегшує спільну роботу над проєктами з аналізу даних або програмування."
   ]
  },
  {
   "cell_type": "code",
   "execution_count": 1,
   "metadata": {},
   "outputs": [
    {
     "name": "stdout",
     "output_type": "stream",
     "text": [
      "Hello, diana!\n"
     ]
    }
   ],
   "source": [
    "import numpy as np\n",
    "\n",
    "name = input(\"Enter your name: \")\n",
    "print(f\"Hello, {name}!\")"
   ]
  },
  {
   "cell_type": "code",
   "execution_count": 4,
   "metadata": {},
   "outputs": [
    {
     "name": "stdout",
     "output_type": "stream",
     "text": [
      "The array of random numbers: [0.27947856 0.20452926 0.3579155  0.77441767 0.11730903 0.3570211\n",
      " 0.2928367  0.65820783 0.88649156 0.18593438]\n",
      "The mean value of the array: 0.41141416061134695\n"
     ]
    }
   ],
   "source": [
    "import numpy as np\n",
    "\n",
    "random_numbers = np.random.rand(10)\n",
    "mean_value = np.mean(random_numbers)\n",
    "\n",
    "print(f\"The array of random numbers: {random_numbers}\")\n",
    "print(f\"The mean value of the array: {mean_value}\")"
   ]
  }
 ],
 "metadata": {
  "kernelspec": {
   "display_name": "Python 3",
   "language": "python",
   "name": "python3"
  },
  "language_info": {
   "codemirror_mode": {
    "name": "ipython",
    "version": 3
   },
   "file_extension": ".py",
   "mimetype": "text/x-python",
   "name": "python",
   "nbconvert_exporter": "python",
   "pygments_lexer": "ipython3",
   "version": "3.12.5"
  }
 },
 "nbformat": 4,
 "nbformat_minor": 2
}
