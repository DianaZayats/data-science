{
 "cells": [
  {
   "cell_type": "markdown",
   "metadata": {},
   "source": [
    "Імпорт бібліотек"
   ]
  },
  {
   "cell_type": "code",
   "execution_count": 10,
   "metadata": {},
   "outputs": [],
   "source": [
    "# Імпорт бібліотек\n",
    "import pandas as pd\n",
    "import numpy as np\n",
    "import matplotlib.pyplot as plt\n",
    "from sklearn.model_selection import train_test_split\n",
    "from sklearn.preprocessing import LabelEncoder, StandardScaler\n",
    "from sklearn.datasets import make_classification\n",
    "from sklearn.metrics import classification_report, confusion_matrix, roc_curve, auc\n",
    "from tensorflow.keras.models import Sequential\n",
    "from tensorflow.keras.layers import Dense, Dropout\n"
   ]
  },
  {
   "cell_type": "markdown",
   "metadata": {},
   "source": [
    "Завантаження Kaggle-набору"
   ]
  },
  {
   "cell_type": "code",
   "execution_count": 11,
   "metadata": {},
   "outputs": [
    {
     "name": "stdout",
     "output_type": "stream",
     "text": [
      "                              Unique id channel_name         category  \\\n",
      "0  7e9ae164-6a8b-4521-a2d4-58f7c9fff13f      Outcall  Product Queries   \n",
      "1  b07ec1b0-f376-43b6-86df-ec03da3b2e16      Outcall  Product Queries   \n",
      "2  200814dd-27c7-4149-ba2b-bd3af3092880      Inbound    Order Related   \n",
      "3  eb0d3e53-c1ca-42d3-8486-e42c8d622135      Inbound          Returns   \n",
      "4  ba903143-1e54-406c-b969-46c52f92e5df      Inbound     Cancellation   \n",
      "\n",
      "                   Sub-category Customer Remarks  \\\n",
      "0                Life Insurance              NaN   \n",
      "1  Product Specific Information              NaN   \n",
      "2             Installation/demo              NaN   \n",
      "3        Reverse Pickup Enquiry              NaN   \n",
      "4                    Not Needed              NaN   \n",
      "\n",
      "                               Order_id order_date_time Issue_reported at  \\\n",
      "0  c27c9bb4-fa36-4140-9f1f-21009254ffdb             NaN  01/08/2023 11:13   \n",
      "1  d406b0c7-ce17-4654-b9de-f08d421254bd             NaN  01/08/2023 12:52   \n",
      "2  c273368d-b961-44cb-beaf-62d6fd6c00d5             NaN  01/08/2023 20:16   \n",
      "3  5aed0059-55a4-4ec6-bb54-97942092020a             NaN  01/08/2023 20:56   \n",
      "4  e8bed5a9-6933-4aff-9dc6-ccefd7dcde59             NaN  01/08/2023 10:30   \n",
      "\n",
      "    issue_responded Survey_response_Date Customer_City Product_category  \\\n",
      "0  01/08/2023 11:47            01-Aug-23           NaN              NaN   \n",
      "1  01/08/2023 12:54            01-Aug-23           NaN              NaN   \n",
      "2  01/08/2023 20:38            01-Aug-23           NaN              NaN   \n",
      "3  01/08/2023 21:16            01-Aug-23           NaN              NaN   \n",
      "4  01/08/2023 10:32            01-Aug-23           NaN              NaN   \n",
      "\n",
      "   Item_price  connected_handling_time           Agent_name      Supervisor  \\\n",
      "0         NaN                      NaN     Richard Buchanan     Mason Gupta   \n",
      "1         NaN                      NaN        Vicki Collins       Dylan Kim   \n",
      "2         NaN                      NaN         Duane Norman    Jackson Park   \n",
      "3         NaN                      NaN       Patrick Flores     Olivia Wang   \n",
      "4         NaN                      NaN  Christopher Sanchez  Austin Johnson   \n",
      "\n",
      "           Manager    Tenure Bucket Agent Shift  CSAT Score  \n",
      "0  Jennifer Nguyen  On Job Training     Morning           5  \n",
      "1      Michael Lee              >90     Morning           5  \n",
      "2      William Kim  On Job Training     Evening           5  \n",
      "3       John Smith              >90     Evening           5  \n",
      "4      Michael Lee             0-30     Morning           5  \n",
      "<class 'pandas.core.frame.DataFrame'>\n",
      "RangeIndex: 85907 entries, 0 to 85906\n",
      "Data columns (total 20 columns):\n",
      " #   Column                   Non-Null Count  Dtype  \n",
      "---  ------                   --------------  -----  \n",
      " 0   Unique id                85907 non-null  object \n",
      " 1   channel_name             85907 non-null  object \n",
      " 2   category                 85907 non-null  object \n",
      " 3   Sub-category             85907 non-null  object \n",
      " 4   Customer Remarks         28742 non-null  object \n",
      " 5   Order_id                 67675 non-null  object \n",
      " 6   order_date_time          17214 non-null  object \n",
      " 7   Issue_reported at        85907 non-null  object \n",
      " 8   issue_responded          85907 non-null  object \n",
      " 9   Survey_response_Date     85907 non-null  object \n",
      " 10  Customer_City            17079 non-null  object \n",
      " 11  Product_category         17196 non-null  object \n",
      " 12  Item_price               17206 non-null  float64\n",
      " 13  connected_handling_time  242 non-null    float64\n",
      " 14  Agent_name               85907 non-null  object \n",
      " 15  Supervisor               85907 non-null  object \n",
      " 16  Manager                  85907 non-null  object \n",
      " 17  Tenure Bucket            85907 non-null  object \n",
      " 18  Agent Shift              85907 non-null  object \n",
      " 19  CSAT Score               85907 non-null  int64  \n",
      "dtypes: float64(2), int64(1), object(17)\n",
      "memory usage: 13.1+ MB\n",
      "None\n",
      "          Item_price  connected_handling_time    CSAT Score\n",
      "count   17206.000000               242.000000  85907.000000\n",
      "mean     5660.774846               462.400826      4.242157\n",
      "std     12825.728411               246.295037      1.378903\n",
      "min         0.000000                 0.000000      1.000000\n",
      "25%       392.000000               293.000000      4.000000\n",
      "50%       979.000000               427.000000      5.000000\n",
      "75%      2699.750000               592.250000      5.000000\n",
      "max    164999.000000              1986.000000      5.000000\n"
     ]
    }
   ],
   "source": [
    "#(eCommerce Customer Service Satisfaction)\n",
    "file_path = 'Customer_support_data.csv'\n",
    "data = pd.read_csv(file_path)\n",
    "\n",
    "# Ознайомлення з даними\n",
    "print(data.head())\n",
    "print(data.info())\n",
    "print(data.describe())"
   ]
  },
  {
   "cell_type": "markdown",
   "metadata": {},
   "source": [
    "Створення набору даних за допомогою make_classification"
   ]
  },
  {
   "cell_type": "code",
   "execution_count": 12,
   "metadata": {},
   "outputs": [
    {
     "name": "stdout",
     "output_type": "stream",
     "text": [
      "   Feature_1  Feature_2  Feature_3  Feature_4  Feature_5  Feature_6  \\\n",
      "0   1.125100   1.178124   0.493516   0.790880  -0.614278   1.347020   \n",
      "1  -0.564641   3.638629  -1.522415  -1.541705   1.616697   4.781310   \n",
      "2   0.516313   2.165426  -0.628486  -0.386923   0.492518   1.442381   \n",
      "3   0.537282   0.966618  -0.115420   0.670755  -0.958516   0.871440   \n",
      "4   0.278385   1.065828  -1.724917  -2.235667   0.715107   0.731249   \n",
      "\n",
      "   Feature_7  Feature_8  Feature_9  Feature_10  Target  \n",
      "0   1.419515   1.357325   0.966041   -1.981139       1  \n",
      "1   3.190292  -0.890254   1.438826   -3.828748       0  \n",
      "2   1.332905  -1.958175  -0.348803   -1.804124       0  \n",
      "3   0.508186  -1.034471  -1.654176   -1.910503       1  \n",
      "4  -0.674119   0.598330  -0.524283    1.047610       0  \n"
     ]
    }
   ],
   "source": [
    "X_generated, y_generated = make_classification(\n",
    "    n_samples=1000,  # Кількість записів\n",
    "    n_features=10,   # Кількість ознак\n",
    "    n_informative=5, # Кількість інформативних ознак\n",
    "    n_redundant=2,   # Кількість надлишкових ознак\n",
    "    n_classes=2,     # Кількість класів\n",
    "    random_state=42\n",
    ")\n",
    "\n",
    "# Перетворення на DataFrame\n",
    "generated_data = pd.DataFrame(X_generated, columns=[f'Feature_{i}' for i in range(1, 11)])\n",
    "generated_data['Target'] = y_generated\n",
    "\n",
    "# Ознайомлення зі створеним набором\n",
    "print(generated_data.head())"
   ]
  },
  {
   "cell_type": "markdown",
   "metadata": {},
   "source": [
    "Створення власного набору за допомогою numpy та random"
   ]
  },
  {
   "cell_type": "code",
   "execution_count": 13,
   "metadata": {},
   "outputs": [
    {
     "name": "stdout",
     "output_type": "stream",
     "text": [
      "   Feature_1  Feature_2  Feature_3  Target\n",
      "0   3.745401   5.683512          0       0\n",
      "1   9.507143   8.752342          0       1\n",
      "2   7.319939   6.900848          1       1\n",
      "3   5.986585   3.846193          1       0\n",
      "4   1.560186   3.203171          0       0\n"
     ]
    }
   ],
   "source": [
    "# Створення даних\n",
    "np.random.seed(42)\n",
    "n_samples = 500\n",
    "\n",
    "# Генерація числових ознак\n",
    "feature_1 = np.random.uniform(0, 10, n_samples)  # Значення від 0 до 10\n",
    "feature_2 = np.random.normal(5, 2, n_samples)   # Нормальний розподіл\n",
    "feature_3 = np.random.randint(0, 2, n_samples)  # Бінарна ознака\n",
    "\n",
    "# Генерація цільової змінної\n",
    "target = (feature_1 + feature_2 > 10).astype(int)  # Логіка для створення класів\n",
    "\n",
    "# Створення DataFrame\n",
    "custom_data = pd.DataFrame({\n",
    "    'Feature_1': feature_1,\n",
    "    'Feature_2': feature_2,\n",
    "    'Feature_3': feature_3,\n",
    "    'Target': target\n",
    "})\n",
    "\n",
    "# Ознайомлення з власним набором\n",
    "print(custom_data.head())"
   ]
  },
  {
   "cell_type": "markdown",
   "metadata": {},
   "source": [
    "Попередня обробка даних"
   ]
  },
  {
   "cell_type": "code",
   "execution_count": 14,
   "metadata": {},
   "outputs": [
    {
     "name": "stdout",
     "output_type": "stream",
     "text": [
      "Feature_1     0\n",
      "Feature_2     0\n",
      "Feature_3     0\n",
      "Feature_4     0\n",
      "Feature_5     0\n",
      "Feature_6     0\n",
      "Feature_7     0\n",
      "Feature_8     0\n",
      "Feature_9     0\n",
      "Feature_10    0\n",
      "Target        0\n",
      "dtype: int64\n"
     ]
    }
   ],
   "source": [
    "# Вибір даних для моделювання (використовуйте один із наборів)\n",
    "selected_data = generated_data  # Замість generated_data можна використати data або custom_data\n",
    "\n",
    "# Перевірка пропущених значень\n",
    "print(selected_data.isnull().sum())\n",
    "\n",
    "# Масштабування ознак\n",
    "X = selected_data.drop(columns=['Target'])  # Цільова змінна\n",
    "y = selected_data['Target']\n",
    "\n",
    "scaler = StandardScaler()\n",
    "X_scaled = scaler.fit_transform(X)\n",
    "\n",
    "# Поділ на тренувальну та тестову вибірки\n",
    "X_train, X_test, y_train, y_test = train_test_split(X_scaled, y, test_size=0.2, random_state=42)"
   ]
  },
  {
   "cell_type": "markdown",
   "metadata": {},
   "source": [
    "Створення нейронної мережі"
   ]
  },
  {
   "cell_type": "code",
   "execution_count": 15,
   "metadata": {},
   "outputs": [
    {
     "name": "stdout",
     "output_type": "stream",
     "text": [
      "Epoch 1/50\n"
     ]
    },
    {
     "name": "stderr",
     "output_type": "stream",
     "text": [
      "C:\\Users\\Lenovo\\AppData\\Local\\Packages\\PythonSoftwareFoundation.Python.3.11_qbz5n2kfra8p0\\LocalCache\\local-packages\\Python311\\site-packages\\keras\\src\\layers\\core\\dense.py:87: UserWarning: Do not pass an `input_shape`/`input_dim` argument to a layer. When using Sequential models, prefer using an `Input(shape)` object as the first layer in the model instead.\n",
      "  super().__init__(activity_regularizer=activity_regularizer, **kwargs)\n"
     ]
    },
    {
     "name": "stdout",
     "output_type": "stream",
     "text": [
      "\u001b[1m25/25\u001b[0m \u001b[32m━━━━━━━━━━━━━━━━━━━━\u001b[0m\u001b[37m\u001b[0m \u001b[1m1s\u001b[0m 7ms/step - accuracy: 0.5353 - loss: 0.6850 - val_accuracy: 0.8450 - val_loss: 0.4973\n",
      "Epoch 2/50\n",
      "\u001b[1m25/25\u001b[0m \u001b[32m━━━━━━━━━━━━━━━━━━━━\u001b[0m\u001b[37m\u001b[0m \u001b[1m0s\u001b[0m 3ms/step - accuracy: 0.7984 - loss: 0.4933 - val_accuracy: 0.8950 - val_loss: 0.3653\n",
      "Epoch 3/50\n",
      "\u001b[1m25/25\u001b[0m \u001b[32m━━━━━━━━━━━━━━━━━━━━\u001b[0m\u001b[37m\u001b[0m \u001b[1m0s\u001b[0m 3ms/step - accuracy: 0.8450 - loss: 0.4162 - val_accuracy: 0.9100 - val_loss: 0.2968\n",
      "Epoch 4/50\n",
      "\u001b[1m25/25\u001b[0m \u001b[32m━━━━━━━━━━━━━━━━━━━━\u001b[0m\u001b[37m\u001b[0m \u001b[1m0s\u001b[0m 3ms/step - accuracy: 0.8288 - loss: 0.3895 - val_accuracy: 0.9200 - val_loss: 0.2612\n",
      "Epoch 5/50\n",
      "\u001b[1m25/25\u001b[0m \u001b[32m━━━━━━━━━━━━━━━━━━━━\u001b[0m\u001b[37m\u001b[0m \u001b[1m0s\u001b[0m 3ms/step - accuracy: 0.8778 - loss: 0.2998 - val_accuracy: 0.9200 - val_loss: 0.2428\n",
      "Epoch 6/50\n",
      "\u001b[1m25/25\u001b[0m \u001b[32m━━━━━━━━━━━━━━━━━━━━\u001b[0m\u001b[37m\u001b[0m \u001b[1m0s\u001b[0m 3ms/step - accuracy: 0.9006 - loss: 0.2882 - val_accuracy: 0.9200 - val_loss: 0.2231\n",
      "Epoch 7/50\n",
      "\u001b[1m25/25\u001b[0m \u001b[32m━━━━━━━━━━━━━━━━━━━━\u001b[0m\u001b[37m\u001b[0m \u001b[1m0s\u001b[0m 3ms/step - accuracy: 0.8869 - loss: 0.2878 - val_accuracy: 0.9250 - val_loss: 0.2133\n",
      "Epoch 8/50\n",
      "\u001b[1m25/25\u001b[0m \u001b[32m━━━━━━━━━━━━━━━━━━━━\u001b[0m\u001b[37m\u001b[0m \u001b[1m0s\u001b[0m 3ms/step - accuracy: 0.8898 - loss: 0.2577 - val_accuracy: 0.9400 - val_loss: 0.2011\n",
      "Epoch 9/50\n",
      "\u001b[1m25/25\u001b[0m \u001b[32m━━━━━━━━━━━━━━━━━━━━\u001b[0m\u001b[37m\u001b[0m \u001b[1m0s\u001b[0m 2ms/step - accuracy: 0.9015 - loss: 0.2471 - val_accuracy: 0.9250 - val_loss: 0.1998\n",
      "Epoch 10/50\n",
      "\u001b[1m25/25\u001b[0m \u001b[32m━━━━━━━━━━━━━━━━━━━━\u001b[0m\u001b[37m\u001b[0m \u001b[1m0s\u001b[0m 3ms/step - accuracy: 0.8939 - loss: 0.2615 - val_accuracy: 0.9350 - val_loss: 0.1895\n",
      "Epoch 11/50\n",
      "\u001b[1m25/25\u001b[0m \u001b[32m━━━━━━━━━━━━━━━━━━━━\u001b[0m\u001b[37m\u001b[0m \u001b[1m0s\u001b[0m 2ms/step - accuracy: 0.8855 - loss: 0.2717 - val_accuracy: 0.9400 - val_loss: 0.1823\n",
      "Epoch 12/50\n",
      "\u001b[1m25/25\u001b[0m \u001b[32m━━━━━━━━━━━━━━━━━━━━\u001b[0m\u001b[37m\u001b[0m \u001b[1m0s\u001b[0m 3ms/step - accuracy: 0.8940 - loss: 0.2523 - val_accuracy: 0.9350 - val_loss: 0.1760\n",
      "Epoch 13/50\n",
      "\u001b[1m25/25\u001b[0m \u001b[32m━━━━━━━━━━━━━━━━━━━━\u001b[0m\u001b[37m\u001b[0m \u001b[1m0s\u001b[0m 2ms/step - accuracy: 0.9064 - loss: 0.2265 - val_accuracy: 0.9450 - val_loss: 0.1722\n",
      "Epoch 14/50\n",
      "\u001b[1m25/25\u001b[0m \u001b[32m━━━━━━━━━━━━━━━━━━━━\u001b[0m\u001b[37m\u001b[0m \u001b[1m0s\u001b[0m 3ms/step - accuracy: 0.8970 - loss: 0.2391 - val_accuracy: 0.9500 - val_loss: 0.1603\n",
      "Epoch 15/50\n",
      "\u001b[1m25/25\u001b[0m \u001b[32m━━━━━━━━━━━━━━━━━━━━\u001b[0m\u001b[37m\u001b[0m \u001b[1m0s\u001b[0m 3ms/step - accuracy: 0.9071 - loss: 0.2127 - val_accuracy: 0.9450 - val_loss: 0.1557\n",
      "Epoch 16/50\n",
      "\u001b[1m25/25\u001b[0m \u001b[32m━━━━━━━━━━━━━━━━━━━━\u001b[0m\u001b[37m\u001b[0m \u001b[1m0s\u001b[0m 2ms/step - accuracy: 0.9141 - loss: 0.2222 - val_accuracy: 0.9450 - val_loss: 0.1584\n",
      "Epoch 17/50\n",
      "\u001b[1m25/25\u001b[0m \u001b[32m━━━━━━━━━━━━━━━━━━━━\u001b[0m\u001b[37m\u001b[0m \u001b[1m0s\u001b[0m 2ms/step - accuracy: 0.9298 - loss: 0.2025 - val_accuracy: 0.9450 - val_loss: 0.1532\n",
      "Epoch 18/50\n",
      "\u001b[1m25/25\u001b[0m \u001b[32m━━━━━━━━━━━━━━━━━━━━\u001b[0m\u001b[37m\u001b[0m \u001b[1m0s\u001b[0m 2ms/step - accuracy: 0.9197 - loss: 0.2111 - val_accuracy: 0.9450 - val_loss: 0.1497\n",
      "Epoch 19/50\n",
      "\u001b[1m25/25\u001b[0m \u001b[32m━━━━━━━━━━━━━━━━━━━━\u001b[0m\u001b[37m\u001b[0m \u001b[1m0s\u001b[0m 3ms/step - accuracy: 0.9168 - loss: 0.1973 - val_accuracy: 0.9600 - val_loss: 0.1444\n",
      "Epoch 20/50\n",
      "\u001b[1m25/25\u001b[0m \u001b[32m━━━━━━━━━━━━━━━━━━━━\u001b[0m\u001b[37m\u001b[0m \u001b[1m0s\u001b[0m 3ms/step - accuracy: 0.8992 - loss: 0.2244 - val_accuracy: 0.9450 - val_loss: 0.1418\n",
      "Epoch 21/50\n",
      "\u001b[1m25/25\u001b[0m \u001b[32m━━━━━━━━━━━━━━━━━━━━\u001b[0m\u001b[37m\u001b[0m \u001b[1m0s\u001b[0m 2ms/step - accuracy: 0.9315 - loss: 0.1983 - val_accuracy: 0.9550 - val_loss: 0.1368\n",
      "Epoch 22/50\n",
      "\u001b[1m25/25\u001b[0m \u001b[32m━━━━━━━━━━━━━━━━━━━━\u001b[0m\u001b[37m\u001b[0m \u001b[1m0s\u001b[0m 3ms/step - accuracy: 0.9356 - loss: 0.1681 - val_accuracy: 0.9600 - val_loss: 0.1257\n",
      "Epoch 23/50\n",
      "\u001b[1m25/25\u001b[0m \u001b[32m━━━━━━━━━━━━━━━━━━━━\u001b[0m\u001b[37m\u001b[0m \u001b[1m0s\u001b[0m 3ms/step - accuracy: 0.9243 - loss: 0.1961 - val_accuracy: 0.9550 - val_loss: 0.1240\n",
      "Epoch 24/50\n",
      "\u001b[1m25/25\u001b[0m \u001b[32m━━━━━━━━━━━━━━━━━━━━\u001b[0m\u001b[37m\u001b[0m \u001b[1m0s\u001b[0m 3ms/step - accuracy: 0.9213 - loss: 0.2121 - val_accuracy: 0.9600 - val_loss: 0.1249\n",
      "Epoch 25/50\n",
      "\u001b[1m25/25\u001b[0m \u001b[32m━━━━━━━━━━━━━━━━━━━━\u001b[0m\u001b[37m\u001b[0m \u001b[1m0s\u001b[0m 2ms/step - accuracy: 0.9357 - loss: 0.1697 - val_accuracy: 0.9650 - val_loss: 0.1120\n",
      "Epoch 26/50\n",
      "\u001b[1m25/25\u001b[0m \u001b[32m━━━━━━━━━━━━━━━━━━━━\u001b[0m\u001b[37m\u001b[0m \u001b[1m0s\u001b[0m 2ms/step - accuracy: 0.9441 - loss: 0.1655 - val_accuracy: 0.9550 - val_loss: 0.1155\n",
      "Epoch 27/50\n",
      "\u001b[1m25/25\u001b[0m \u001b[32m━━━━━━━━━━━━━━━━━━━━\u001b[0m\u001b[37m\u001b[0m \u001b[1m0s\u001b[0m 2ms/step - accuracy: 0.9358 - loss: 0.1642 - val_accuracy: 0.9600 - val_loss: 0.1115\n",
      "Epoch 28/50\n",
      "\u001b[1m25/25\u001b[0m \u001b[32m━━━━━━━━━━━━━━━━━━━━\u001b[0m\u001b[37m\u001b[0m \u001b[1m0s\u001b[0m 3ms/step - accuracy: 0.9466 - loss: 0.1465 - val_accuracy: 0.9650 - val_loss: 0.1062\n",
      "Epoch 29/50\n",
      "\u001b[1m25/25\u001b[0m \u001b[32m━━━━━━━━━━━━━━━━━━━━\u001b[0m\u001b[37m\u001b[0m \u001b[1m0s\u001b[0m 2ms/step - accuracy: 0.9485 - loss: 0.1322 - val_accuracy: 0.9550 - val_loss: 0.1125\n",
      "Epoch 30/50\n",
      "\u001b[1m25/25\u001b[0m \u001b[32m━━━━━━━━━━━━━━━━━━━━\u001b[0m\u001b[37m\u001b[0m \u001b[1m0s\u001b[0m 3ms/step - accuracy: 0.9461 - loss: 0.1493 - val_accuracy: 0.9650 - val_loss: 0.0992\n",
      "Epoch 31/50\n",
      "\u001b[1m25/25\u001b[0m \u001b[32m━━━━━━━━━━━━━━━━━━━━\u001b[0m\u001b[37m\u001b[0m \u001b[1m0s\u001b[0m 2ms/step - accuracy: 0.9473 - loss: 0.1540 - val_accuracy: 0.9650 - val_loss: 0.0982\n",
      "Epoch 32/50\n",
      "\u001b[1m25/25\u001b[0m \u001b[32m━━━━━━━━━━━━━━━━━━━━\u001b[0m\u001b[37m\u001b[0m \u001b[1m0s\u001b[0m 3ms/step - accuracy: 0.9470 - loss: 0.1580 - val_accuracy: 0.9650 - val_loss: 0.0967\n",
      "Epoch 33/50\n",
      "\u001b[1m25/25\u001b[0m \u001b[32m━━━━━━━━━━━━━━━━━━━━\u001b[0m\u001b[37m\u001b[0m \u001b[1m0s\u001b[0m 3ms/step - accuracy: 0.9423 - loss: 0.1493 - val_accuracy: 0.9550 - val_loss: 0.0973\n",
      "Epoch 34/50\n",
      "\u001b[1m25/25\u001b[0m \u001b[32m━━━━━━━━━━━━━━━━━━━━\u001b[0m\u001b[37m\u001b[0m \u001b[1m0s\u001b[0m 3ms/step - accuracy: 0.9408 - loss: 0.1496 - val_accuracy: 0.9550 - val_loss: 0.0944\n",
      "Epoch 35/50\n",
      "\u001b[1m25/25\u001b[0m \u001b[32m━━━━━━━━━━━━━━━━━━━━\u001b[0m\u001b[37m\u001b[0m \u001b[1m0s\u001b[0m 2ms/step - accuracy: 0.9535 - loss: 0.1249 - val_accuracy: 0.9700 - val_loss: 0.0882\n",
      "Epoch 36/50\n",
      "\u001b[1m25/25\u001b[0m \u001b[32m━━━━━━━━━━━━━━━━━━━━\u001b[0m\u001b[37m\u001b[0m \u001b[1m0s\u001b[0m 2ms/step - accuracy: 0.9621 - loss: 0.1196 - val_accuracy: 0.9650 - val_loss: 0.0865\n",
      "Epoch 37/50\n",
      "\u001b[1m25/25\u001b[0m \u001b[32m━━━━━━━━━━━━━━━━━━━━\u001b[0m\u001b[37m\u001b[0m \u001b[1m0s\u001b[0m 3ms/step - accuracy: 0.9582 - loss: 0.1327 - val_accuracy: 0.9650 - val_loss: 0.0884\n",
      "Epoch 38/50\n",
      "\u001b[1m25/25\u001b[0m \u001b[32m━━━━━━━━━━━━━━━━━━━━\u001b[0m\u001b[37m\u001b[0m \u001b[1m0s\u001b[0m 3ms/step - accuracy: 0.9642 - loss: 0.1332 - val_accuracy: 0.9650 - val_loss: 0.0847\n",
      "Epoch 39/50\n",
      "\u001b[1m25/25\u001b[0m \u001b[32m━━━━━━━━━━━━━━━━━━━━\u001b[0m\u001b[37m\u001b[0m \u001b[1m0s\u001b[0m 2ms/step - accuracy: 0.9426 - loss: 0.1501 - val_accuracy: 0.9750 - val_loss: 0.0863\n",
      "Epoch 40/50\n",
      "\u001b[1m25/25\u001b[0m \u001b[32m━━━━━━━━━━━━━━━━━━━━\u001b[0m\u001b[37m\u001b[0m \u001b[1m0s\u001b[0m 3ms/step - accuracy: 0.9588 - loss: 0.1106 - val_accuracy: 0.9650 - val_loss: 0.0863\n",
      "Epoch 41/50\n",
      "\u001b[1m25/25\u001b[0m \u001b[32m━━━━━━━━━━━━━━━━━━━━\u001b[0m\u001b[37m\u001b[0m \u001b[1m0s\u001b[0m 2ms/step - accuracy: 0.9218 - loss: 0.1761 - val_accuracy: 0.9700 - val_loss: 0.0817\n",
      "Epoch 42/50\n",
      "\u001b[1m25/25\u001b[0m \u001b[32m━━━━━━━━━━━━━━━━━━━━\u001b[0m\u001b[37m\u001b[0m \u001b[1m0s\u001b[0m 3ms/step - accuracy: 0.9600 - loss: 0.1154 - val_accuracy: 0.9650 - val_loss: 0.0889\n",
      "Epoch 43/50\n",
      "\u001b[1m25/25\u001b[0m \u001b[32m━━━━━━━━━━━━━━━━━━━━\u001b[0m\u001b[37m\u001b[0m \u001b[1m0s\u001b[0m 3ms/step - accuracy: 0.9527 - loss: 0.1158 - val_accuracy: 0.9800 - val_loss: 0.0764\n",
      "Epoch 44/50\n",
      "\u001b[1m25/25\u001b[0m \u001b[32m━━━━━━━━━━━━━━━━━━━━\u001b[0m\u001b[37m\u001b[0m \u001b[1m0s\u001b[0m 2ms/step - accuracy: 0.9682 - loss: 0.1068 - val_accuracy: 0.9800 - val_loss: 0.0755\n",
      "Epoch 45/50\n",
      "\u001b[1m25/25\u001b[0m \u001b[32m━━━━━━━━━━━━━━━━━━━━\u001b[0m\u001b[37m\u001b[0m \u001b[1m0s\u001b[0m 3ms/step - accuracy: 0.9639 - loss: 0.1004 - val_accuracy: 0.9750 - val_loss: 0.0778\n",
      "Epoch 46/50\n",
      "\u001b[1m25/25\u001b[0m \u001b[32m━━━━━━━━━━━━━━━━━━━━\u001b[0m\u001b[37m\u001b[0m \u001b[1m0s\u001b[0m 2ms/step - accuracy: 0.9457 - loss: 0.1274 - val_accuracy: 0.9700 - val_loss: 0.0758\n",
      "Epoch 47/50\n",
      "\u001b[1m25/25\u001b[0m \u001b[32m━━━━━━━━━━━━━━━━━━━━\u001b[0m\u001b[37m\u001b[0m \u001b[1m0s\u001b[0m 2ms/step - accuracy: 0.9602 - loss: 0.1071 - val_accuracy: 0.9750 - val_loss: 0.0762\n",
      "Epoch 48/50\n",
      "\u001b[1m25/25\u001b[0m \u001b[32m━━━━━━━━━━━━━━━━━━━━\u001b[0m\u001b[37m\u001b[0m \u001b[1m0s\u001b[0m 3ms/step - accuracy: 0.9636 - loss: 0.1105 - val_accuracy: 0.9700 - val_loss: 0.0746\n",
      "Epoch 49/50\n",
      "\u001b[1m25/25\u001b[0m \u001b[32m━━━━━━━━━━━━━━━━━━━━\u001b[0m\u001b[37m\u001b[0m \u001b[1m0s\u001b[0m 3ms/step - accuracy: 0.9718 - loss: 0.0983 - val_accuracy: 0.9800 - val_loss: 0.0704\n",
      "Epoch 50/50\n",
      "\u001b[1m25/25\u001b[0m \u001b[32m━━━━━━━━━━━━━━━━━━━━\u001b[0m\u001b[37m\u001b[0m \u001b[1m0s\u001b[0m 3ms/step - accuracy: 0.9588 - loss: 0.1088 - val_accuracy: 0.9850 - val_loss: 0.0699\n"
     ]
    }
   ],
   "source": [
    "# Архітектура моделі\n",
    "model = Sequential([\n",
    "    Dense(128, activation='relu', input_shape=(X_train.shape[1],)),\n",
    "    Dropout(0.3),\n",
    "    Dense(64, activation='relu'),\n",
    "    Dropout(0.3),\n",
    "    Dense(len(np.unique(y)), activation='softmax')  # Кількість виходів дорівнює кількості класів\n",
    "])\n",
    "\n",
    "# Компіляція моделі\n",
    "model.compile(optimizer='adam', loss='sparse_categorical_crossentropy', metrics=['accuracy'])\n",
    "\n",
    "# Тренування моделі\n",
    "history = model.fit(X_train, y_train, validation_data=(X_test, y_test), epochs=50, batch_size=32)"
   ]
  },
  {
   "cell_type": "markdown",
   "metadata": {},
   "source": [
    "Оцінка моделі"
   ]
  },
  {
   "cell_type": "code",
   "execution_count": 16,
   "metadata": {},
   "outputs": [
    {
     "name": "stdout",
     "output_type": "stream",
     "text": [
      "\u001b[1m7/7\u001b[0m \u001b[32m━━━━━━━━━━━━━━━━━━━━\u001b[0m\u001b[37m\u001b[0m \u001b[1m0s\u001b[0m 2ms/step - accuracy: 0.9895 - loss: 0.0627 \n",
      "Точність на тестовій вибірці: 0.99\n",
      "\u001b[1m7/7\u001b[0m \u001b[32m━━━━━━━━━━━━━━━━━━━━\u001b[0m\u001b[37m\u001b[0m \u001b[1m0s\u001b[0m 5ms/step \n",
      "              precision    recall  f1-score   support\n",
      "\n",
      "           0       1.00      0.97      0.99       112\n",
      "           1       0.97      1.00      0.98        88\n",
      "\n",
      "    accuracy                           0.98       200\n",
      "   macro avg       0.98      0.99      0.98       200\n",
      "weighted avg       0.99      0.98      0.99       200\n",
      "\n",
      "Матриця плутанини:\n",
      "[[109   3]\n",
      " [  0  88]]\n",
      "\u001b[1m7/7\u001b[0m \u001b[32m━━━━━━━━━━━━━━━━━━━━\u001b[0m\u001b[37m\u001b[0m \u001b[1m0s\u001b[0m 2ms/step \n",
      "\u001b[1m7/7\u001b[0m \u001b[32m━━━━━━━━━━━━━━━━━━━━\u001b[0m\u001b[37m\u001b[0m \u001b[1m0s\u001b[0m 1ms/step \n"
     ]
    },
    {
     "data": {
      "image/png": "[encoded data removed]",
      "text/plain": [
       "<Figure size 1000x600 with 1 Axes>"
      ]
     },
     "metadata": {},
     "output_type": "display_data"
    }
   ],
   "source": [
    "# Оцінка на тестовій вибірці\n",
    "test_loss, test_accuracy = model.evaluate(X_test, y_test)\n",
    "print(f\"Точність на тестовій вибірці: {test_accuracy:.2f}\")\n",
    "\n",
    "# Класифікаційний звіт\n",
    "y_pred = np.argmax(model.predict(X_test), axis=1)\n",
    "print(classification_report(y_test, y_pred))\n",
    "\n",
    "# Матриця плутанини\n",
    "conf_matrix = confusion_matrix(y_test, y_pred)\n",
    "print(\"Матриця плутанини:\")\n",
    "print(conf_matrix)\n",
    "\n",
    "# Побудова ROC-кривих\n",
    "plt.figure(figsize=(10, 6))\n",
    "for i in range(len(np.unique(y))):\n",
    "    y_test_bin = (y_test == i).astype(int)\n",
    "    y_pred_bin = model.predict(X_test)[:, i]\n",
    "    fpr, tpr, _ = roc_curve(y_test_bin, y_pred_bin)\n",
    "    roc_auc = auc(fpr, tpr)\n",
    "    plt.plot(fpr, tpr, label=f'Class {i} (AUC = {roc_auc:.2f})')\n",
    "\n",
    "plt.plot([0, 1], [0, 1], 'k--')\n",
    "plt.xlabel('False Positive Rate')\n",
    "plt.ylabel('True Positive Rate')\n",
    "plt.title('ROC-криві для кожного класу')\n",
    "plt.legend()\n",
    "plt.show()"
   ]
  },
  {
   "cell_type": "markdown",
   "metadata": {},
   "source": [
    "Збереження результатів"
   ]
  },
  {
   "cell_type": "code",
   "execution_count": 17,
   "metadata": {},
   "outputs": [],
   "source": [
    "model.save('classification_model.keras')"
   ]
  }
 ],
 "metadata": {
  "kernelspec": {
   "display_name": "Python 3",
   "language": "python",
   "name": "python3"
  },
  "language_info": {
   "codemirror_mode": {
    "name": "ipython",
    "version": 3
   },
   "file_extension": ".py",
   "mimetype": "text/x-python",
   "name": "python",
   "nbconvert_exporter": "python",
   "pygments_lexer": "ipython3",
   "version": "3.11.9"
  }
 },
 "nbformat": 4,
 "nbformat_minor": 2
}
