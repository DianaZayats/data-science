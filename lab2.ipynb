{
 "cells": [
  {
   "cell_type": "code",
   "execution_count": 11,
   "metadata": {},
   "outputs": [
    {
     "name": "stdout",
     "output_type": "stream",
     "text": [
      "Linear (10): [0, 1, 2, 3, 4, 5, 6, 7, 8, 9]\n",
      "Random (10): [1, 6, 1, 4, 7, 9, 0, 1, 4, 6]\n",
      "\n",
      "Linear (8): [2, 3, 4, 5, 6, 7, 8, 9]\n",
      "Random (8): [1, 4, 7, 9, 0, 1, 4, 6]\n",
      "\n",
      "Linear (9): [2, 3, 4, 5, 6, 7, 8, 9, 99]\n",
      "Random (9): [1, 4, 7, 9, 0, 1, 4, 6, 99]\n",
      "\n",
      "Linear (9): [88, 3, 4, 5, 6, 7, 8, 9, 99]\n",
      "Random (9): [88, 4, 7, 9, 0, 1, 4, 6, 99]\n",
      "\n"
     ]
    }
   ],
   "source": [
    "import numpy as np\n",
    "\n",
    "# Константи для генерації лінійної послідовності\n",
    "START: int = 0\n",
    "END: int = 10\n",
    "STEP: int = 1\n",
    "\n",
    "# Функція для візуалізації масивів\n",
    "def vis() -> None:\n",
    "    global linear_\n",
    "    global random_\n",
    "    \n",
    "    # Виводимо розмір і вміст масивів\n",
    "    print(\n",
    "        f'Linear ({len(linear_)}): {linear_.tolist()}\\n'\n",
    "        f'Random ({len(random_)}): {random_.tolist()}\\n'\n",
    "    )\n",
    "\n",
    "# Генерація лінійного масиву від 0 до 9\n",
    "linear_ = np.arange(START, END, STEP)\n",
    "\n",
    "# Генерація масиву випадкових цілих чисел від 0 до 9\n",
    "random_ = np.random.randint(END, size=END)\n",
    "\n",
    "# Виведення початкових масивів\n",
    "vis()\n",
    "\n",
    "# Видалення перших двох елементів з кожного масиву\n",
    "linear_ = np.delete(linear_, [0, 1])\n",
    "random_ = np.delete(random_, [0, 1])\n",
    "\n",
    "# Виведення масивів після видалення\n",
    "vis()\n",
    "\n",
    "# Додавання елемента зі значенням 99 в кінці кожного масиву\n",
    "linear_ = np.append(linear_, 99)\n",
    "random_ = np.append(random_, 99)\n",
    "\n",
    "# Виведення масивів після додавання\n",
    "vis()\n",
    "\n",
    "# Заміна першого елемента в кожному масиві на значення 88\n",
    "linear_.put(0, 88)\n",
    "random_.put(0, 88)\n",
    "\n",
    "# Останнє виведення масивів після зміни першого елемента\n",
    "vis()"
   ]
  },
  {
   "cell_type": "code",
   "execution_count": 10,
   "metadata": {},
   "outputs": [
    {
     "name": "stdout",
     "output_type": "stream",
     "text": [
      "   col_1  col_2  col_3\n",
      "0     88     88    176\n",
      "1      3      2      5\n",
      "2      4      5      9\n",
      "3      5      8     13\n",
      "4      6      8     14\n",
      "5      7      4     11\n",
      "6      8      2     10\n",
      "7      9      6     15\n",
      "8     99     99    198 \n",
      "\n",
      "   col_1  col_2  col_3\n",
      "0     88     88    176 \n",
      "\n",
      "           col_1      col_2       col_3\n",
      "count   9.000000   9.000000    9.000000\n",
      "mean   25.444444  24.666667   50.111111\n",
      "std    38.726964  39.182266   77.859560\n",
      "min     3.000000   2.000000    5.000000\n",
      "25%     5.000000   4.000000   10.000000\n",
      "50%     7.000000   6.000000   13.000000\n",
      "75%     9.000000   8.000000   15.000000\n",
      "max    99.000000  99.000000  198.000000 \n",
      "\n",
      "0    176\n",
      "1      5\n",
      "2      9\n",
      "3     13\n",
      "4     14\n",
      "5     11\n",
      "6     10\n",
      "7     15\n",
      "8    198\n",
      "Name: col_3, dtype: int64 \n",
      "\n",
      "col_1     88\n",
      "col_2     88\n",
      "col_3    176\n",
      "Name: 0, dtype: int64 \n",
      "\n"
     ]
    }
   ],
   "source": [
    "import pandas as pd\n",
    "\n",
    "# Створення DataFrame з попередніх масивів\n",
    "df = pd.DataFrame({\n",
    "    'col_1': linear_,\n",
    "    'col_2': random_,\n",
    "    'col_3': linear_ + random_\n",
    "})\n",
    "\n",
    "# Виведення всього DataFrame\n",
    "print(df, '\\n')\n",
    "\n",
    "# Відображення лише першого рядка за допомогою `head`\n",
    "print(df.head(1), '\\n')\n",
    "\n",
    "# Виведення статистики DataFrame\n",
    "print(df.describe(), '\\n')\n",
    "\n",
    "# Вибір стовпця `col_3` за міткою\n",
    "print(df['col_3'], '\\n')\n",
    "\n",
    "# Вибір рядка `col_1` за індексом\n",
    "print(df.iloc[0], '\\n')"
   ]
  },
  {
   "cell_type": "code",
   "execution_count": 9,
   "metadata": {},
   "outputs": [
    {
     "data": {
      "image/png": "[encoded data removed]",
      "text/plain": [
       "<Figure size 640x480 with 1 Axes>"
      ]
     },
     "metadata": {},
     "output_type": "display_data"
    },
    {
     "name": "stdout",
     "output_type": "stream",
     "text": [
      "MAE: 1.277094030750485\n",
      "MSE: 2.402476534540499\n"
     ]
    }
   ],
   "source": [
    "import numpy as np\n",
    "import matplotlib.pyplot as plt\n",
    "import pandas as pd\n",
    "\n",
    "# Створення даних\n",
    "x = np.arange(0, 10, 1)\n",
    "y = 2 * x + 1  # Лінійна функція\n",
    "y_noise = y + np.random.normal(0, 1, len(x))  # Додаємо шум\n",
    "\n",
    "# Побудова графіку\n",
    "plt.plot(x, y, label='Лінійна функція')\n",
    "plt.scatter(x, y_noise, color='red', label='Дані з помилками')\n",
    "plt.xlabel('X')\n",
    "plt.ylabel('Y')\n",
    "plt.legend()\n",
    "plt.show()\n",
    "\n",
    "# Обчислення метрик похибок\n",
    "mae = np.mean(np.abs(y - y_noise))\n",
    "mse = np.mean((y - y_noise)**2)\n",
    "print(f'MAE: {mae}')\n",
    "print(f'MSE: {mse}')\n",
    "\n",
    "# Запис результатів у CSV файл\n",
    "results = pd.DataFrame({'X': x, 'Y': y, 'Y_noise': y_noise, 'MAE': [mae]*len(x), 'MSE': [mse]*len(x)})\n",
    "results.to_csv('results.csv', index=False)"
   ]
  }
 ],
 "metadata": {
  "kernelspec": {
   "display_name": "Python 3",
   "language": "python",
   "name": "python3"
  },
  "language_info": {
   "codemirror_mode": {
    "name": "ipython",
    "version": 3
   },
   "file_extension": ".py",
   "mimetype": "text/x-python",
   "name": "python",
   "nbconvert_exporter": "python",
   "pygments_lexer": "ipython3",
   "version": "3.12.5"
  }
 },
 "nbformat": 4,
 "nbformat_minor": 2
}
